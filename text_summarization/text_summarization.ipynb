
{
 "cells": [
  {
   "cell_type": "markdown",
   "metadata": {},
   "source": [
    "# Text summarization \n",
    "\n",
    "## Abstract \n",
    "We want to test text summarization algorithms in order to extrapolate/compress information from tennis articles/interviews (may be Sinner, Djokovic-related content, or a news about a recently played tournament such as the US Open, etc.).\n",
    "\n",
    "Notice that the approach is general, but it is better to calibrate the algorithm according to your personal aim. Indeed, my selection criteria may be not appropriate to everyone's goals. "
   ]
  },
  {
   "cell_type": "markdown",
   "metadata": {},
   "source": [
    "## Text summarization algorithms \n",
    "Text summarization algorithms can be split into two main categories: **EXTRACTIVE** and **ABSTRACTIVE**. \n",
    "\n",
    "### Extractive methods\n",
    "* Most commonly used, they are about extracting significant information from enormous amounts of text and arrange it into clear and succinct summaries. Criteria are the _most essential phrases_ (Top K), and the importance of each one of these sentences to the subject. SUMY is one of the libraries to do extractive text summarization. Possible algorithms:\n",
    "\n",
    "  **LexRank**\n",
    "\n",
    "  Unsupervised approach to text summarization based on graph-based centrality scoring of sentences. The main idea is that sentences \"recommend\" other similar sentences to the reader. Thus, if one sentence is very similar to many others, it will likely be a sentence of great importance.\n",
    "\n",
    "  **Using Luhn**\n",
    "\n",
    "  Based on frequency of most important words\n",
    "  \n",
    "### Abstractive methods\n",
    "* *Rewrite* the text, and then summarize it by using natural language processing (NLP). Significantly more beneficial in many cases, including ours (I guess, let's try).\n",
    "\n",
    "### RESULTS\n",
    "Results are based on my tests I conduct on this article https://www.ubitennis.com/blog/2024/09/14/la-coppa-davis-fa-un-passo-indietro-ottavi-di-finale-per-16-squadre-a-settembre-in-8-sedi-ad-eliminazione-come-una-volta/ from UbiTennis. I tried different algorithms (note: I tried LexRankSummary with different string lenghts, i.e., including gradually more part of the full text) \n",
    "* LexRankSummary - it doesn't work either for shorter and longer articles. It seems like it just repeats the sentences.\n",
    "* Luhn works much better.\n",
    "* LSA works better than LexRankSummary, but is worse than Luhn in capturing the key point of the text.\n",
    "* BERT (Google AI) (Bidirectional Encoder Representations from Transformers) can _also_ be used for extractive summarization - to date is the best one. It is able to kind of summarize the entire text in very coincise sentences. However, sometimes it looks lime it doesn't focus on the key sentences}.\n",
    "* BART (Facebook AI), abstractive method. It should be trained on specific tennis news/websited (e.g., UbiTennis, SkySport, etc.)\n"
   ]
  },
  {
   "cell_type": "markdown",
   "metadata": {},
   "source": [
    "### 1. TESTING EXTRACTIVE METHODS"
   ]
  },
  {
   "cell_type": "code",
   "execution_count": null,
   "metadata": {},
   "outputs": [],
   "source": [
    "import nltk\n",
    "from nltk.corpus import brown\n",
    "brown.words()"
   ]
  },
  {
   "cell_type": "code",
   "execution_count": 1,
   "metadata": {},
   "outputs": [],
   "source": [
    "# Input text to be summarized\n",
    "article = \"\"\" Ma perché far cominciare gli incontri di Coppa Davis così tardi, alle 15, per finire quasi sempre nei dintorni di mezzanotte \\\n",
    "quando non alle una, quando una squadra -come il Brasile che ha giocato mercoledì contro l’Italia e poi giovedì contro l’Olanda \\\n",
    "– rischia di dover giocare partite decisive con ben poco riposo, pregiudicando quindi anche la qualità del tennis?\\\n",
    "A Bologna martedì sera il doppio di Italia-Brasile si è chiuso a mezzanotte e un quarto. \\\n",
    "Ho seguito la Coppa Davis con il nuovo format fin dalla sua prima edizione a Madrid nella Caja Magica,\\\n",
    "quando i suoi critici più feroci l’avevano ribattezzata Coppa Piquè, attribuendo all’ex calciatore del Barcellona \\\n",
    "e delle furie rosse iberiche la responsabilità per il grande sacrilegio.\n",
    "\n",
    "La seguii con lo spirito nostalgico di chi preferiva il vecchio format tradizionale, tre giorni in casa o fuori e quasi sempre a spalti pieni di spettatori e di genuino entusiasmo (senza che ci fosse bisogno cioè di “assoldare” bande di musicanti dotati di trombe e tamburi assordanti e asfissianti). Erano match…più veri, sulla distanza dei tre set su cinque; il doppio disputato alla seconda giornata aveva sì un peso importante, ma valeva un punto su 5 e non 1 su 3, e quindi il 20 per cento e non il 33; salvo che nel caso di un 3 a 0 dopo due giornate, il compito di decidere il team vittorioso toccava al quarto o al quinto singolare. Anche l’incrocio fra il n.2 di una squadra contro il numero 1 dell’altro era notevole motivo di interesse perché aiutava a capire un po’ meglio la profondità tecnica di un team.\n",
    "\n",
    "Quel mio spirito nostalgico d’antan non mi impediva però di riconoscere che purtroppo quasi tutti i top-players (meno patrioti di Nole Djokovic) e soprattutto i loro agenti che con la Davis non si mettono in tasca soldi diversamente che con i tornei e le esibizioni, l’idea di sacrificare due o tre settimane a prezzi scontati (quella prima e quella dopo più il weekend di gara) dimostravano di non essere più interessati a quella Coppa Davis che a me invece piaceva ed emozionava. Soprattutto i top players avevano preso l’abitudine di snobbarla quando si erano tolti la soddisfazione di vincerla una prima volta.\n",
    "\n",
    "C’erano, oggettivamente, anche i problemi conseguenti a un calendario imprevedibile, impossibile da preparare e gestire tempestivamente nei tre/quattro appuntamenti annuali della competizione, quando un giocatore professionista aveva l’esigenza di programmare per tempo la propria attività, i tornei cui iscriversi (o anche dove chiedere ingaggi…extra montepremi), per via di repentini cambi di superficie – dal cemento alla terra rossa e per ritornare al cemento o viceversa  – trasvolate oceaniche, fusi orari da assorbire anda  e rianda. Con quel che segue.\n",
    "\"\"\"\n"
   ]
  },
  {
   "cell_type": "code",
   "execution_count": 6,
   "metadata": {},
   "outputs": [
    {
     "name": "stdout",
     "output_type": "stream",
     "text": [
      "Testo riassunto:\n",
      "\n",
      "Ma perché far cominciare gli incontri di Coppa Davis così tardi, alle 15, per finire quasi sempre nei dintorni di mezzanotte quando non alle una, quando una squadra -come il Brasile che ha giocato mercoledì contro l’Italia e poi giovedì contro l’Olanda – rischia di dover giocare partite decisive con ben poco riposo, pregiudicando quindi anche la qualità del tennis?A Bologna martedì sera il doppio di Italia-Brasile si è chiuso a mezzanotte e un quarto.\n",
      "Erano match…più veri, sulla distanza dei tre set su cinque; il doppio disputato alla seconda giornata aveva sì un peso importante, ma valeva un punto su 5 e non 1 su 3, e quindi il 20 per cento e non il 33; salvo che nel caso di un 3 a 0 dopo due giornate, il compito di decidere il team vittorioso toccava al quarto o al quinto singolare.\n",
      "Quel mio spirito nostalgico d’antan non mi impediva però di riconoscere che purtroppo quasi tutti i top-players (meno patrioti di Nole Djokovic) e soprattutto i loro agenti che con la Davis non si mettono in tasca soldi diversamente che con i tornei e le esibizioni, l’idea di sacrificare due o tre settimane a prezzi scontati (quella prima e quella dopo più il weekend di gara) dimostravano di non essere più interessati a quella Coppa Davis che a me invece piaceva ed emozionava.\n"
     ]
    }
   ],
   "source": [
    "from summarizer import Summarizer\n",
    "from sumy.parsers.plaintext import PlaintextParser\n",
    "from sumy.nlp.tokenizers import Tokenizer\n",
    "from sumy.summarizers.lsa import LsaSummarizer\n",
    "from sumy.summarizers.lex_rank import LexRankSummarizer \n",
    "from sumy.summarizers.luhn import LuhnSummarizer\n",
    "\n",
    "# For Strings\n",
    "parser = PlaintextParser.from_string(article,Tokenizer(\"italian\"))\n",
    "# For Files\n",
    "#parser = PlaintextParser.from_file(file, Tokenizer(\"english\"))\n",
    "\n",
    "# Using LexRank\n",
    "#summarizer = LexRankSummarizer()\n",
    "# Using Luhn\n",
    "summarizer = LuhnSummarizer()\n",
    "# Using LSA\n",
    "#summarizer = LsaSummarizer()\n",
    "\n",
    "#Summarize the document with 2 sentences\n",
    "summary = summarizer(parser.document, 3) \n",
    "\n",
    "print('Testo riassunto:\\n')\n",
    "for sentence in summary:\n",
    "    print(sentence)\n",
    "\n",
    "#print('\\n Testo originale:\\n', article)"
   ]
  },
  {
   "cell_type": "code",
   "execution_count": null,
   "metadata": {},
   "outputs": [],
   "source": [
    "# Create a BERT extractive summarizer\n",
    "summarizer = Summarizer()\n",
    "# Generate the summary\n",
    "summary = summarizer(article, min_length=50, max_length=250)  # You can adjust the min_length and max_length parameters\n",
    "# Output the summary\n",
    "#print(\"Original Text:\")\n",
    "#print(article)\n",
    "print(\"\\nSummary:\")\n",
    "print(summary)"
   ]
  },
  {
   "cell_type": "code",
   "execution_count": null,
   "metadata": {},
   "outputs": [],
   "source": []
  },
  {
   "cell_type": "code",
   "execution_count": 16,
   "metadata": {},
   "outputs": [
    {
     "name": "stdout",
     "output_type": "stream",
     "text": [
      "Original Text:\n",
      " Ma perché far cominciare gli incontri di Coppa Davis così tardi, alle 15, per finire quasi sempre nei dintorni di mezzanotte quando non alle una, quando una squadra -come il Brasile che ha giocato mercoledì contro l’Italia e poi giovedì contro l’Olanda – rischia di dover giocare partite decisive con ben poco riposo, pregiudicando quindi anche la qualità del tennis?A Bologna martedì sera il doppio di Italia-Brasile si è chiuso a mezzanotte e un quarto. Ho seguito la Coppa Davis con il nuovo format fin dalla sua prima edizione a Madrid nella Caja Magica,quando i suoi critici più feroci l’avevano ribattezzata Coppa Piquè, attribuendo all’ex calciatore del Barcellona e delle furie rosse iberiche la responsabilità per il grande sacrilegio.\n",
      "\n",
      "La seguii con lo spirito nostalgico di chi preferiva il vecchio format tradizionale, tre giorni in casa o fuori e quasi sempre a spalti pieni di spettatori e di genuino entusiasmo (senza che ci fosse bisogno cioè di “assoldare” bande di musicanti dotati di trombe e tamburi assordanti e asfissianti). Erano match…più veri, sulla distanza dei tre set su cinque; il doppio disputato alla seconda giornata aveva sì un peso importante, ma valeva un punto su 5 e non 1 su 3, e quindi il 20 per cento e non il 33; salvo che nel caso di un 3 a 0 dopo due giornate, il compito di decidere il team vittorioso toccava al quarto o al quinto singolare. Anche l’incrocio fra il n.2 di una squadra contro il numero 1 dell’altro era notevole motivo di interesse perché aiutava a capire un po’ meglio la profondità tecnica di un team.\n",
      "\n",
      "Quel mio spirito nostalgico d’antan non mi impediva però di riconoscere che purtroppo quasi tutti i top-players (meno patrioti di Nole Djokovic) e soprattutto i loro agenti che con la Davis non si mettono in tasca soldi diversamente che con i tornei e le esibizioni, l’idea di sacrificare due o tre settimane a prezzi scontati (quella prima e quella dopo più il weekend di gara) dimostravano di non essere più interessati a quella Coppa Davis che a me invece piaceva ed emozionava. Soprattutto i top players avevano preso l’abitudine di snobbarla quando si erano tolti la soddisfazione di vincerla una prima volta.\n",
      "\n",
      "C’erano, oggettivamente, anche i problemi conseguenti a un calendario imprevedibile, impossibile da preparare e gestire tempestivamente nei tre/quattro appuntamenti annuali della competizione, quando un giocatore professionista aveva l’esigenza di programmare per tempo la propria attività, i tornei cui iscriversi (o anche dove chiedere ingaggi…extra montepremi), per via di repentini cambi di superficie – dal cemento alla terra rossa e per ritornare al cemento o viceversa  – trasvolate oceaniche, fusi orari da assorbire anda  e rianda. Con quel che segue.\n",
      "\n",
      "\n",
      "Summary:\n",
      "Ho seguito la Coppa Davis con il nuovo format fin dalla sua prima edizione a Madrid nella Caja Magica,quando i suoi critici più feroci l’avevano ribattezzata Coppa Piquè, attribuendo all’ex calciatore del Barcellona e delle furie rosse iberiche la responsabilità per il grande sacrilegio.\n",
      "La seguii con lo spirito nostalgico di chi preferiva il vecchio format tradizionale, tre giorni in casa o fuori e quasi sempre a spalti pieni di spettatori e di genuino entusiasmo (senza che ci fosse bisogno cioè di “assoldare” bande di musicanti dotati di trombe e tamburi assordanti e asfissianti). Erano match…più veri, sulla distanza dei tre set su cinque; il doppio disputato alla seconda giornata aveva sì un peso importante, ma valeva un punto su 5 e non 1 su 3, e quindi il 20 per cento e non il 33\n"
     ]
    }
   ],
   "source": [
    "#Try BART (Facebook AI) for Abstractive text summarization \n",
    "from transformers import BartTokenizer, BartForConditionalGeneration\n",
    "from transformers import AutoTokenizer, AutoModelForSeq2SeqLM\n",
    "\n",
    "#Load pre-trained BART model and tokenizer\n",
    "#model_name = \"facebook/bart-large-cnn\"\n",
    "#tokenizer = BartTokenizer.from_pretrained(model_name)\n",
    "#model = BartForConditionalGeneration.from_pretrained(model_name)\n",
    "\n",
    "#The model has been fine-tuned for the abstractive summarization task on 3 different Italian datasets:\n",
    "tokenizer = AutoTokenizer.from_pretrained(\"morenolq/bart-it\") #trained on italian articles from FanPage, IlPost, WITS\n",
    "model = AutoModelForSeq2SeqLM.from_pretrained(\"morenolq/bart-it\")\n",
    "\n",
    "#Tokenize and summarize the input text using BART\n",
    "inputs = tokenizer.encode(\"summarize: \" + article, return_tensors=\"pt\", max_length=1024, truncation=True)\n",
    "summary_ids = model.generate(inputs, max_length=200, min_length=50, length_penalty=2.0, num_beams=4, early_stopping=True)\n",
    "\n",
    "# Decode and output the summary\n",
    "summary = tokenizer.decode(summary_ids[0], skip_special_tokens=True)\n",
    "print(\"Original Text:\")\n",
    "print(article)\n",
    "print(\"\\nSummary:\")\n",
    "print(summary)"
   ]
  },
  {
   "cell_type": "code",
   "execution_count": null,
   "metadata": {},
   "outputs": [],
   "source": []
  }
 ],
 "metadata": {
  "kernelspec": {
   "display_name": "Python 3 (ipykernel)",
   "language": "python",
   "name": "python3"
  },
  "language_info": {
   "codemirror_mode": {
    "name": "ipython",
    "version": 3
   },
   "file_extension": ".py",
   "mimetype": "text/x-python",
   "name": "python",
   "nbconvert_exporter": "python",
   "pygments_lexer": "ipython3",
   "version": "3.12.5"
  }
 },
 "nbformat": 4,
 "nbformat_minor": 4
}
